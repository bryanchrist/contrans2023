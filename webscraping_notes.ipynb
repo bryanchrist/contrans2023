{
 "cells": [
  {
   "cell_type": "code",
   "execution_count": 9,
   "id": "f9a94a9c-45ac-423f-b45e-57c032e2c9cf",
   "metadata": {},
   "outputs": [],
   "source": [
    "import numpy as np\n",
    "import pandas as pd\n",
    "from bs4 import BeautifulSoup\n",
    "import requests\n",
    "import json"
   ]
  },
  {
   "cell_type": "code",
   "execution_count": 10,
   "id": "956d232b-f20d-4265-b491-d8fdde57e76b",
   "metadata": {},
   "outputs": [
    {
     "data": {
      "text/plain": [
       "<Response [403]>"
      ]
     },
     "execution_count": 10,
     "metadata": {},
     "output_type": "execute_result"
    }
   ],
   "source": [
    "r = requests.get('http://httpbin.org/user-agent')\n",
    "user_agent = json.loads(r.text)['user-agent']\n",
    "headers = {'User-Agent': user_agent,\n",
    "            \"From\": 'brc4cb@virginia.edu'\n",
    "}\n",
    "url = 'https://www.congress.gov/bill/118th-congress/senate-bill/475/text?format=txt'\n",
    "r = requests.get(url, headers = headers)\n",
    "r"
   ]
  },
  {
   "cell_type": "code",
   "execution_count": 11,
   "id": "89d364ae-94c3-4c17-a651-c219b3a5b977",
   "metadata": {},
   "outputs": [
    {
     "data": {
      "text/plain": [
       "<!DOCTYPE html>\n",
       "<html lang=\"en-US\"><head><title>Just a moment...</title><meta content=\"text/html; charset=utf-8\" http-equiv=\"Content-Type\"/><meta content=\"IE=Edge\" http-equiv=\"X-UA-Compatible\"/><meta content=\"noindex,nofollow\" name=\"robots\"/><meta content=\"width=device-width,initial-scale=1\" name=\"viewport\"/><link href=\"/cdn-cgi/styles/challenges.css\" rel=\"stylesheet\"/></head><body class=\"no-js\"><div class=\"main-wrapper\" role=\"main\"><div class=\"main-content\"><noscript><div id=\"challenge-error-title\"><div class=\"h2\"><span class=\"icon-wrapper\"><div class=\"heading-icon warning-icon\"></div></span><span id=\"challenge-error-text\">Enable JavaScript and cookies to continue</span></div></div></noscript></div></div><script>(function(){window._cf_chl_opt={cvId: '2',cZone: \"www.congress.gov\",cType: 'managed',cNounce: '4307',cRay: '80debfa1fcc743a4',cHash: '317cfd8984ffc8b',cUPMDTk: \"\\/bill\\/118th-congress\\/senate-bill\\/475\\/text?format=txt&__cf_chl_tk=FN37rw5Xen6zLGLeUeVkLV4BWPvQ7bQVZbMYuhayE1Y-1695933071-0-gaNycGzNCrs\",cFPWv: 'g',cTTimeMs: '1000',cMTimeMs: '0',cTplV: 5,cTplB: 'cf',cK: \"visitor-time\",fa: \"\\/bill\\/118th-congress\\/senate-bill\\/475\\/text?format=txt&__cf_chl_f_tk=FN37rw5Xen6zLGLeUeVkLV4BWPvQ7bQVZbMYuhayE1Y-1695933071-0-gaNycGzNCrs\",md: \"GBhv_801f3g3OJJLwZ82HESxYIM26TBg77KsADZFb_Q-1695933071-0-AWYQQntpX_mrrGSr9sl6feIbLOthintjvnhboii1SB20RPoTlP_K---ENVupbyy4OdBtA7CzRjHDoeVGRqO2KwMN0Dsqkzc6RXNLdN1xlFrQPYBPtou0yvKMY4Qh_TrMNLs4JAeVgmxAdtG9saL5uzxLltutGtN8w0FKDBewjwzNRDMzpboXlxgltowzkWcMbSKcfulzEcP8056C5B9dehinxU3Apt8jFReS99sKB_vmFi68mXD3gW4ckqFYKQbr5zennrV8oeShO4Uh-Xwlmdze438sGNh3HlShLpvRm-QoAWTbyYrlMm7I9NxO6LZmg8V07CR516VGIpChGuG4ZhpFudOztJ9HsCkYm_5kwlbAv_F8EBbJa3PutwbNDlzt_0qque989fQKNzZqOmLiufVBsu4yuKesAUWk7g9sibhXjOImBTJ07sz3SqsGaholBUTCmsZC06jI0ep-51sqazv5-ciQlyv9dWCUnBc__xQZ0t0aOeolAAMx7bvh5y8YBdhvw1Aq_2UGvsPzs-bp7ez1NXfa2DgAj8emjtw66o06GNKIw9tRqjiJvkdfLMfjBAP-xoPIZoB0KoFhF13hV2xsHCdRd6FwPAV31puiH4N_3aVRVCpIkFjWz0UR1_femtXhJD7sg9pCHQ2IjDJ0j49GhunuINo8eq-NQZ6z4Oubd1stKb1zN8NlwIisfivBFnIafVMLgOGA3-FBXU6I5UuDuknhCNhQdstAT_Bb5noPSDUhYzD08Hf5m_H8AFhuN9jkwFiUKEmWjzvV_ZTwdIdcznPPFPwKl5j4NJY3HSEC2jzAxzh71-sh1Ezn_GzKrgJ0UQDmkXmWoXiEtOa_T-wZotRyUa6UIOu8YIiccdy-jaKpVfu4rOnxGJqGU-cRxBhBS7SrXW70VlAvsV7xDqyhIbsc9nsO4fEKWprKWUtkLVrjw9vsBJfBjs89yqIWc5a__4EQvjQHndTFDoyzE1DUdedStbfVzJfe1GwPlRILz-zmo59LoK3UDDYMIjexO0JAAZbKgNhwI4ciF1gTpU37MvSxG5S-9vtI8awCv93ob9d53zvwlG6gMCbiO4cI4RDHCttjQkBZ2Kdmqjogrcy_WAyDpiXksz-DdztzHh9Pom_g4ng4RdFovMgbdSf-7cZ52cvG4wbjObQBOlgeiSyN3B5OgHLzx3pRHPbVNAO6LyQBOflhhT9HrlRQZjR_RA3XgvtSPfrjDrc9lqcHUjATNAoME5l3blvAiwK6shnbRNv6IAv1h0bX6vI59rncijCrCaiv3kZrGPMHZ06H2lXbf18arXNb9fBrI7SW4muXmeTurupmgqtG8uw1mgXXE-y6Xi9k47yM5GHnVKmiVZ7rQl327Ps6Gpz9FatwgbhQHdOqIEIvEPf2Akuz6ENUTi4Qt3EBEddUJ7l-9YFmnDhPu-bxYgnfLzMVdp5p-2wK7N75V0ystktMHLnTqyIrz0qq9q89WmJWpiU0jkZ-AEb47V0L6ZRWlLGVcMhK7CEdo2upiUmsMUpepUgG4fPwosk_t6hSq7tLiHGdBLbd9pJS0BVobb9paPHHqAvnG7VGQ-Mu2y6C0mQ4LxsU0uR7e7ypuJm9iTTYFJgXYodiut8KOmgPsCUycAKOubeUWalOvHr34Z1DkuaXRGGljsxHwcm-lXdrFLfwTFm53Th3BrKuCKKmS64Bude8zZptLPvAnFyAiktGHHuag1sCeh6DROwyLbujbvCw6aw90uR3eum9Gt_Ld3z4mFWVxijbp-xCb5VNcbiz3oeoiAqJwjo5GpCfL__cQvBI66HIU7HaOHq5W4vfhVHLiS2CogOCW-F_xxKmf7cCGTa_9KboT4KB55HyLJFfbSc_-G_3cBpl_CgMGIuPnZCOp1zwOAu9sUwIrlkDiYjiyMirClnQLsCzUEu0Au1kMAiDew-lpkuD8qdtKZUngGpvBRzcBhVaMMVsL-OST2pLFcyjLCTK9rS4TtWTze0o72Ktngeo1x61cJ7Gopj786mwE6jKEk-YlVtrO6JCFh9P17_F0Ri-PBJGWwbv-S6jx0JbrqOel1LewSpcvUes7xt8OrWcl9djhyiemmsMyr593xfU_PpLx624MDlKh8HEKi2Xgq2ikN7uq3kHePOZ69wnnT6k1emTfPk3E3mVsKOOgtfWTlHWMPCc5p8-ltEi2GnP4Cs1CrYzdCbE0t18_sfR2YdavUknI-udK_4wvGWO-VcaohkGzBB-yJ0meec3bbY3Fk0vJYZ1eenRPzkLcypBL0NKLbkK-wfAwOxShchMDaZbo80urJnbhMWilquIC7TgrORsNAOKyL9kJWzoaaVmvgPEQUPd2SbH6cjvLTmSRttddqv5Ex5cP2YzFEs6_F28iMvp0UYcNF7Ff-H0WmiIRktLcaBU0PNmd9qVNgHodCjmauL-98qDqwnDjU4EuOjfx4lh_aT93vxUFzUA1uyxb0ktpA7TUVztPRoM754jm95ns9f6x_lb7hUkEqH3MjM5_4wYexUYQ3U1VcVrt8MalzYA-ZLF7ERrbJ3o77kH9xkN7p32TvJXN51Qlv_8ClcQGJiw8dKvbBrNr806Xl-fpw4LQ1UUUvMA75ZPUW4zEl1FacMJSU5XaYb4A22v8W5ESTuRyUTeItCvZiASWdaR4oMXyCSn2WZZ7OIKgM-x8-HDGlDro96v6Q\",cRq: {ru: 'aHR0cHM6Ly93d3cuY29uZ3Jlc3MuZ292L2JpbGwvMTE4dGgtY29uZ3Jlc3Mvc2VuYXRlLWJpbGwvNDc1L3RleHQ/Zm9ybWF0PXR4dA==',ra: 'cHl0aG9uLXJlcXVlc3RzLzIuMzEuMA==',rm: 'R0VU',d: 'Aa2sKiEscH+ajJYO0zp81tac2Nvcj4OzgKZz5tH1dYgT9z8xFDmVgYTRjGsb15fw+/dfTNluOq4LyBgSzqjgb7NFk/zVewU/o+HOXiM6ezWcB/1cgkDAJ6JDBXkaMoHVGUgizvSdXvdnTKvbZxiau9ugStDR7Txo4Ez9gGl7OPnyKpQjvrOIFyqDOlvFIyU/VsDscATckGodz++bvnR/h5o/i27vXf0Tpd/q3yB0h559nmR7wt7ivHF5Sa0JN4EJMbu3lpmLbfohJO3tZabGhvrk4JLVntcZi6G1VVIKNW1dQtREWsiqG7/6hnUKRAwNcCL7/JQGYuM7zDb8tA0ZPYl+e8qZ0uVYOLIkpfZaJzlUYzRYg5UgSYOgA5aQq1+MD38Q95GAH3p8Ft7uoqHaTxVt2645ef5m2Xh9Ew0eRFSXEuRcREX7URyU7wcRToglPi7PXK2EDsOkcJaY97XHAKU4YmtcGeI6TGEBfAW8WEOWiDru/ugEYt7gmYGazTzPzwPwGia3Ci/6HgJ9K+CLRlSx2je8cAH5SvI1Gzhlscs=',t: 'MTY5NTkzMzA3MS42NzgwMDA=',cT: Math.floor(Date.now() / 1000),m: 'nL/cYvRPYALDw8YIO0fv69gx1ZieGRZVkCGtI86ywoU=',i1: 'zEOusPmiekKD8BYJUb6GsA==',i2: 'WrJlbYKuwu4+6Z2uBwQNSQ==',zh: 'P/37dfGD+KUZFm0qKuE3N/q0gn3BGPttWTswwTYBAD8=',uh: 'YE9XOpG5TeHmhA1zfs5mxC8CrRZzq2a/+r+OU7dliYQ=',hh: 'cTbG2zct7/9cr7abEWSg59sInRszec2mTWq3jspVNx4=',}};var cpo = document.createElement('script');cpo.src = '/cdn-cgi/challenge-platform/h/g/orchestrate/chl_page/v1?ray=80debfa1fcc743a4';window._cf_chl_opt.cOgUHash = location.hash === '' && location.href.indexOf('#') !== -1 ? '#' : location.hash;window._cf_chl_opt.cOgUQuery = location.search === '' && location.href.slice(0, location.href.length - window._cf_chl_opt.cOgUHash.length).indexOf('?') !== -1 ? '?' : location.search;if (window.history && window.history.replaceState) {var ogU = location.pathname + window._cf_chl_opt.cOgUQuery + window._cf_chl_opt.cOgUHash;history.replaceState(null, null, \"\\/bill\\/118th-congress\\/senate-bill\\/475\\/text?format=txt&__cf_chl_rt_tk=FN37rw5Xen6zLGLeUeVkLV4BWPvQ7bQVZbMYuhayE1Y-1695933071-0-gaNycGzNCrs\" + window._cf_chl_opt.cOgUHash);cpo.onload = function() {history.replaceState(null, null, ogU);}}document.getElementsByTagName('head')[0].appendChild(cpo);}());</script></body></html>"
      ]
     },
     "execution_count": 11,
     "metadata": {},
     "output_type": "execute_result"
    }
   ],
   "source": [
    "BeautifulSoup(r.text, 'html.parser')"
   ]
  },
  {
   "cell_type": "code",
   "execution_count": 12,
   "id": "fbac0b96-ca86-4de5-b28a-bc41c6768c02",
   "metadata": {},
   "outputs": [
    {
     "data": {
      "text/plain": [
       "<Response [200]>"
      ]
     },
     "execution_count": 12,
     "metadata": {},
     "output_type": "execute_result"
    }
   ],
   "source": [
    "url = 'https://www.govinfo.gov/content/pkg/BILLS-118s475is/html/BILLS-118s475is.htm'\n",
    "r = requests.get(url, headers = headers)\n",
    "r"
   ]
  },
  {
   "cell_type": "code",
   "execution_count": 14,
   "id": "05eff6cd-e348-408e-bb44-6a6d629b757c",
   "metadata": {},
   "outputs": [
    {
     "data": {
      "text/plain": [
       "\"\\n[Congressional Bills 118th Congress]\\n[From the U.S. Government Publishing Office]\\n[S. 475 Introduced in Senate (IS)]\\n\\n<DOC>\\n\\n\\n\\n\\n\\n\\n118th CONGRESS\\n  1st Session\\n                                 S. 475\\n\\n   To designate the clinic of the Department of Veterans Affairs in \\n   Gallup, New Mexico, as the Hiroshi ``Hershey'' Miyamura VA Clinic.\\n\\n\\n_______________________________________________________________________\\n\\n\\n                   IN THE SENATE OF THE UNITED STATES\\n\\n                           February 16, 2023\\n\\nMr. Heinrich (for himself and Mr. Lujan) introduced the following bill; \\nwhich was read twice and referred to the Committee on Veterans' Affairs\\n\\n_______________________________________________________________________\\n\\n                                 A BILL\\n\\n\\n \\n   To designate the clinic of the Department of Veterans Affairs in \\n   Gallup, New Mexico, as the Hiroshi ``Hershey'' Miyamura VA Clinic.\\n\\n    Be it enacted by the Senate and House of Representatives of the \\nUnited States of America in Congress assembled,\\n\\nSECTION 1. DESIGNATION OF HIROSHI ``HERSHEY'' MIYAMURA DEPARTMENT OF \\n              VETERANS AFFAIRS CLINIC.\\n\\n    (a) Findings.--Congress finds the following:\\n            (1) Hiroshi ``Hershey'' Miyamura was born on October 6, \\n        1925, in Gallup, New Mexico.\\n            (2) A second generation Japanese American, Hershey Miyamura \\n        first served in the United States Army near the end of World \\n        War II.\\n            (3) Hershey Miyamura served in the Army at a time when many \\n        of his fellow Japanese Americans, and that includes his future \\n        wife, were detained in internment camps in the United States.\\n            (4) Hershey Miyamura served in the storied 442nd Infantry \\n        Regiment, which was composed of soldiers with Japanese ancestry \\n        and became one of the most decorated units in the history of \\n        the United States military.\\n            (5) Following the start of the Korean War in 1950, the Army \\n        recalled Hershey Miyamura, who had remained as a member of the \\n        reserve components of the Army, back into active duty.\\n            (6) During an overnight firefight from April 24 to April \\n        25, 1951, then-Corporal Miyamura covered the withdrawal of his \\n        entire company from advancing enemy forces as a machine gun \\n        squad leader.\\n            (7) The selfless actions by Hershey Miyamura that night \\n        allowed all 16 of his men to withdraw safely before he was \\n        severely wounded and captured as a prisoner of war.\\n            (8) Nearly 2\\\\1/2\\\\ years later, following his release and \\n        return to the United States, President Eisenhower presented \\n        Hershey Miyamura with the Congressional Medal of Honor in a \\n        ceremony at the White House.\\n            (9) The lifelong dedication of Hershey Miyamura to the \\n        United States never ceased. It continued long after his \\n        decorated military service ended.\\n            (10) After he received his honorable discharge from the \\n        Army, Hershey Miyamura opened a service station along Route 66 \\n        in his hometown of Gallup, New Mexico.\\n            (11) Hershey Miyamura remained active in his community \\n        until his dying days, advocating for his fellow veterans and \\n        inspiring young people with lectures on patriotism, faith, and \\n        service.\\n    (b) Designation.--The clinic of the Department of Veterans Affairs \\nlocated at 2075 South NM Highway 602, Gallup, New Mexico, shall after \\nthe date of the enactment of this Act be known and designated as the \\n``Hiroshi `Hershey' Miyamura Department of Veterans Affairs Clinic'' or \\nthe ``Hiroshi `Hershey' Miyamura VA Clinic''.\\n    (c) References.--Any reference in any law, regulation, map, \\ndocument, paper, or other record of the United States to the clinic \\nreferred to in subsection (b) shall be considered to be a reference to \\nthe ``Hiroshi `Hershey' Miyamura VA Clinic''.\\n                                 <all>\\n\""
      ]
     },
     "execution_count": 14,
     "metadata": {},
     "output_type": "execute_result"
    }
   ],
   "source": [
    "mysoup = BeautifulSoup(r.text, 'html.parser')\n",
    "mysoup.find_all('pre')[0].text"
   ]
  },
  {
   "cell_type": "code",
   "execution_count": 6,
   "id": "97476fe2-2566-4f21-bab7-b8e7da2d97e0",
   "metadata": {},
   "outputs": [
    {
     "data": {
      "text/html": [
       "<div>\n",
       "<style scoped>\n",
       "    .dataframe tbody tr th:only-of-type {\n",
       "        vertical-align: middle;\n",
       "    }\n",
       "\n",
       "    .dataframe tbody tr th {\n",
       "        vertical-align: top;\n",
       "    }\n",
       "\n",
       "    .dataframe thead th {\n",
       "        text-align: right;\n",
       "    }\n",
       "</style>\n",
       "<table border=\"1\" class=\"dataframe\">\n",
       "  <thead>\n",
       "    <tr style=\"text-align: right;\">\n",
       "      <th></th>\n",
       "      <th>Bill Number</th>\n",
       "      <th>Bill Text</th>\n",
       "    </tr>\n",
       "  </thead>\n",
       "  <tbody>\n",
       "    <tr>\n",
       "      <th>0</th>\n",
       "      <td>S. 1</td>\n",
       "      <td>\\n[Congressional Bills 118th Congress]\\n[From ...</td>\n",
       "    </tr>\n",
       "    <tr>\n",
       "      <th>1</th>\n",
       "      <td>S. 5</td>\n",
       "      <td>\\n[Congressional Bills 118th Congress]\\n[From ...</td>\n",
       "    </tr>\n",
       "    <tr>\n",
       "      <th>2</th>\n",
       "      <td>S. 6</td>\n",
       "      <td>\\n[Congressional Bills 118th Congress]\\n[From ...</td>\n",
       "    </tr>\n",
       "    <tr>\n",
       "      <th>3</th>\n",
       "      <td>S. 7</td>\n",
       "      <td>\\n[Congressional Bills 118th Congress]\\n[From ...</td>\n",
       "    </tr>\n",
       "    <tr>\n",
       "      <th>4</th>\n",
       "      <td>S. 8</td>\n",
       "      <td>\\n[Congressional Bills 118th Congress]\\n[From ...</td>\n",
       "    </tr>\n",
       "    <tr>\n",
       "      <th>...</th>\n",
       "      <td>...</td>\n",
       "      <td>...</td>\n",
       "    </tr>\n",
       "    <tr>\n",
       "      <th>88</th>\n",
       "      <td>S. 94</td>\n",
       "      <td>\\n[Congressional Bills 118th Congress]\\n[From ...</td>\n",
       "    </tr>\n",
       "    <tr>\n",
       "      <th>89</th>\n",
       "      <td>S. 95</td>\n",
       "      <td>\\n[Congressional Bills 118th Congress]\\n[From ...</td>\n",
       "    </tr>\n",
       "    <tr>\n",
       "      <th>90</th>\n",
       "      <td>S. 96</td>\n",
       "      <td>\\n[Congressional Bills 118th Congress]\\n[From ...</td>\n",
       "    </tr>\n",
       "    <tr>\n",
       "      <th>91</th>\n",
       "      <td>S. 97</td>\n",
       "      <td>\\n[Congressional Bills 118th Congress]\\n[From ...</td>\n",
       "    </tr>\n",
       "    <tr>\n",
       "      <th>92</th>\n",
       "      <td>S. 98</td>\n",
       "      <td>\\n[Congressional Bills 118th Congress]\\n[From ...</td>\n",
       "    </tr>\n",
       "  </tbody>\n",
       "</table>\n",
       "<p>93 rows × 2 columns</p>\n",
       "</div>"
      ],
      "text/plain": [
       "   Bill Number                                          Bill Text\n",
       "0         S. 1  \\n[Congressional Bills 118th Congress]\\n[From ...\n",
       "1         S. 5  \\n[Congressional Bills 118th Congress]\\n[From ...\n",
       "2         S. 6  \\n[Congressional Bills 118th Congress]\\n[From ...\n",
       "3         S. 7  \\n[Congressional Bills 118th Congress]\\n[From ...\n",
       "4         S. 8  \\n[Congressional Bills 118th Congress]\\n[From ...\n",
       "..         ...                                                ...\n",
       "88       S. 94  \\n[Congressional Bills 118th Congress]\\n[From ...\n",
       "89       S. 95  \\n[Congressional Bills 118th Congress]\\n[From ...\n",
       "90       S. 96  \\n[Congressional Bills 118th Congress]\\n[From ...\n",
       "91       S. 97  \\n[Congressional Bills 118th Congress]\\n[From ...\n",
       "92       S. 98  \\n[Congressional Bills 118th Congress]\\n[From ...\n",
       "\n",
       "[93 rows x 2 columns]"
      ]
     },
     "execution_count": 6,
     "metadata": {},
     "output_type": "execute_result"
    }
   ],
   "source": [
    "senate_bills = []\n",
    "for i in range(1, 100):\n",
    "    if i % 10==0:\n",
    "        print(f\"Retrieving S. {i}\")\n",
    "    try:\n",
    "        url = f'https://www.govinfo.gov/content/pkg/BILLS-118s{i}is/html/BILLS-118s{i}is.htm'\n",
    "        r = requests.get(url, headers = headers)\n",
    "        mysoup = BeautifulSoup(r.text, 'html.parser')\n",
    "        bill_text = mysoup.find_all('pre')[0].text\n",
    "        senate_bills.append({\"Bill Number\": f\"S. {i}\", \"Bill Text\": bill_text})\n",
    "    except:\n",
    "        continue\n",
    "senate_bills = pd.DataFrame.from_dict(senate_bills)"
   ]
  },
  {
   "cell_type": "code",
   "execution_count": 8,
   "id": "80cdced0-d4a8-4a15-a4b2-24eebd8f88fd",
   "metadata": {},
   "outputs": [],
   "source": [
    "senate_bills.to_csv('senate_bills.csv')"
   ]
  },
  {
   "cell_type": "code",
   "execution_count": null,
   "id": "5551b437-2e39-448b-8df2-2803fe907514",
   "metadata": {},
   "outputs": [],
   "source": []
  }
 ],
 "metadata": {
  "kernelspec": {
   "display_name": "Python 3 (ipykernel)",
   "language": "python",
   "name": "python3"
  },
  "language_info": {
   "codemirror_mode": {
    "name": "ipython",
    "version": 3
   },
   "file_extension": ".py",
   "mimetype": "text/x-python",
   "name": "python",
   "nbconvert_exporter": "python",
   "pygments_lexer": "ipython3",
   "version": "3.11.4"
  }
 },
 "nbformat": 4,
 "nbformat_minor": 5
}
