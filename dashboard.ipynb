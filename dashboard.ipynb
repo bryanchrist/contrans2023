{
 "cells": [
  {
   "cell_type": "code",
   "execution_count": 24,
   "id": "dc5f4fb3-686f-4c72-b88b-0d68a498de04",
   "metadata": {},
   "outputs": [],
   "source": [
    "import numpy as np\n",
    "import pandas as pd\n",
    "import dash\n",
    "from dash import dcc\n",
    "from dash import html\n",
    "from dash.dependencies import Input, Output\n",
    "from sqlalchemy import create_engine\n",
    "import psycopg2\n",
    "import os \n",
    "POSTGRES_PASSWORD = os.getenv('POSTGRES_PASSWORD')"
   ]
  },
  {
   "cell_type": "code",
   "execution_count": 25,
   "id": "25e7d713-0b28-4dbd-bf32-6351353c9744",
   "metadata": {},
   "outputs": [],
   "source": [
    "engine = create_engine('postgresql+psycopg2://{user}:{password}@{host}:{port}/{db}'.format(\n",
    "    user = 'postgres',\n",
    "    password = POSTGRES_PASSWORD,\n",
    "    host = 'postgres',\n",
    "    port = 5432,\n",
    "    db = 'congress'\n",
    "))"
   ]
  },
  {
   "cell_type": "code",
   "execution_count": 43,
   "id": "3f0e8231-23b8-45f7-b13d-af6a9b508a3d",
   "metadata": {},
   "outputs": [
    {
     "data": {
      "text/html": [
       "<div>\n",
       "<style scoped>\n",
       "    .dataframe tbody tr th:only-of-type {\n",
       "        vertical-align: middle;\n",
       "    }\n",
       "\n",
       "    .dataframe tbody tr th {\n",
       "        vertical-align: top;\n",
       "    }\n",
       "\n",
       "    .dataframe thead th {\n",
       "        text-align: right;\n",
       "    }\n",
       "</style>\n",
       "<table border=\"1\" class=\"dataframe\">\n",
       "  <thead>\n",
       "    <tr style=\"text-align: right;\">\n",
       "      <th></th>\n",
       "      <th>directordername</th>\n",
       "      <th>bioguideid</th>\n",
       "    </tr>\n",
       "  </thead>\n",
       "  <tbody>\n",
       "    <tr>\n",
       "      <th>0</th>\n",
       "      <td>Alma S. Adams</td>\n",
       "      <td>A000370</td>\n",
       "    </tr>\n",
       "    <tr>\n",
       "      <th>1</th>\n",
       "      <td>Robert B. Aderholt</td>\n",
       "      <td>A000055</td>\n",
       "    </tr>\n",
       "    <tr>\n",
       "      <th>2</th>\n",
       "      <td>Pete Aguilar</td>\n",
       "      <td>A000371</td>\n",
       "    </tr>\n",
       "    <tr>\n",
       "      <th>3</th>\n",
       "      <td>Mark Alford</td>\n",
       "      <td>A000379</td>\n",
       "    </tr>\n",
       "    <tr>\n",
       "      <th>4</th>\n",
       "      <td>Rick W. Allen</td>\n",
       "      <td>A000372</td>\n",
       "    </tr>\n",
       "    <tr>\n",
       "      <th>...</th>\n",
       "      <td>...</td>\n",
       "      <td>...</td>\n",
       "    </tr>\n",
       "    <tr>\n",
       "      <th>525</th>\n",
       "      <td>Steve Womack</td>\n",
       "      <td>W000809</td>\n",
       "    </tr>\n",
       "    <tr>\n",
       "      <th>526</th>\n",
       "      <td>Ron Wyden</td>\n",
       "      <td>W000779</td>\n",
       "    </tr>\n",
       "    <tr>\n",
       "      <th>527</th>\n",
       "      <td>Rudy Yakym III</td>\n",
       "      <td>Y000067</td>\n",
       "    </tr>\n",
       "    <tr>\n",
       "      <th>528</th>\n",
       "      <td>Todd Young</td>\n",
       "      <td>Y000064</td>\n",
       "    </tr>\n",
       "    <tr>\n",
       "      <th>529</th>\n",
       "      <td>Ryan K. Zinke</td>\n",
       "      <td>Z000018</td>\n",
       "    </tr>\n",
       "  </tbody>\n",
       "</table>\n",
       "<p>530 rows × 2 columns</p>\n",
       "</div>"
      ],
      "text/plain": [
       "        directordername bioguideid\n",
       "0         Alma S. Adams    A000370\n",
       "1    Robert B. Aderholt    A000055\n",
       "2          Pete Aguilar    A000371\n",
       "3           Mark Alford    A000379\n",
       "4         Rick W. Allen    A000372\n",
       "..                  ...        ...\n",
       "525        Steve Womack    W000809\n",
       "526           Ron Wyden    W000779\n",
       "527      Rudy Yakym III    Y000067\n",
       "528          Todd Young    Y000064\n",
       "529       Ryan K. Zinke    Z000018\n",
       "\n",
       "[530 rows x 2 columns]"
      ]
     },
     "execution_count": 43,
     "metadata": {},
     "output_type": "execute_result"
    }
   ],
   "source": [
    "myquery = '''\n",
    "SELECT directordername, bioguideid\n",
    "FROM members\n",
    "ORDER BY lastname\n",
    "'''\n",
    "\n",
    "members = pd.read_sql_query(myquery, con=engine)\n",
    "member_list = [{'label': x, 'value': y} for x, y in zip(members['directordername'], members['bioguideid'])]\n",
    "members"
   ]
  },
  {
   "cell_type": "code",
   "execution_count": 36,
   "id": "4ee14fe4-9f41-4ec0-8719-1ee0ee382bae",
   "metadata": {},
   "outputs": [],
   "source": [
    "external_stylesheets = ['https://codepen.io/chriddyp/pen/bWLwgP.css']"
   ]
  },
  {
   "cell_type": "code",
   "execution_count": 37,
   "id": "de951036-c75b-4cf4-872c-91968add863b",
   "metadata": {},
   "outputs": [],
   "source": [
    "mymarkdown = '''\n",
    "Congressional elections are usually all about the big national issues, but these Representatives and Senators work for local districts and states. Not all issues are the same everywhere. The purpose of this dashboard is to collect public data from these sources:\n",
    "\n",
    "- [Official API for the U.S. Congress](api.congress.gov)\n",
    "- [Voteview](https://voteview.com)\n",
    "- [Open Secrets](https://www.opensecrets.org/open-data/api)\n",
    "- [Propublica's Data on Bills](https://www.propublica.org/datastore/dataset/congressional-data-bulk-legislation-bills)\n",
    "'''"
   ]
  },
  {
   "cell_type": "code",
   "execution_count": 44,
   "id": "cedde61f-1d96-4b1f-95f1-5bb67bdde337",
   "metadata": {},
   "outputs": [
    {
     "data": {
      "text/html": [
       "\n",
       "        <iframe\n",
       "            width=\"100%\"\n",
       "            height=\"650\"\n",
       "            src=\"http://0.0.0.0:8050/\"\n",
       "            frameborder=\"0\"\n",
       "            allowfullscreen\n",
       "            \n",
       "        ></iframe>\n",
       "        "
      ],
      "text/plain": [
       "<IPython.lib.display.IFrame at 0xffff81e2a3d0>"
      ]
     },
     "metadata": {},
     "output_type": "display_data"
    }
   ],
   "source": [
    "app = dash.Dash(__name__, external_stylesheets = external_stylesheets)\n",
    "\n",
    "app.layout = html.Div(\n",
    "    [\n",
    "        html.H1(\"Know Your Representatives in Congress\"),\n",
    "        html.H2(\"Data collected from APIs from Congress.gov, Open Secrets, Voteview.com, and ProPublica\"),\n",
    "        html.H3('DS 6600: Data Engineering 1, UVA Data Science'), \n",
    "\n",
    "        dcc.Markdown(mymarkdown), \n",
    "        dcc.Dropdown(options = member_list, value = 'A000370')\n",
    "    ]\n",
    ")\n",
    "\n",
    "if __name__==\"__main__\":\n",
    "    app.run_server(mode = \"external\", host = \"0.0.0.0\", debug = True)"
   ]
  },
  {
   "cell_type": "code",
   "execution_count": null,
   "id": "3d743b3e-c9f9-4722-a201-e703ca513bdc",
   "metadata": {},
   "outputs": [],
   "source": []
  }
 ],
 "metadata": {
  "kernelspec": {
   "display_name": "Python 3 (ipykernel)",
   "language": "python",
   "name": "python3"
  },
  "language_info": {
   "codemirror_mode": {
    "name": "ipython",
    "version": 3
   },
   "file_extension": ".py",
   "mimetype": "text/x-python",
   "name": "python",
   "nbconvert_exporter": "python",
   "pygments_lexer": "ipython3",
   "version": "3.11.4"
  }
 },
 "nbformat": 4,
 "nbformat_minor": 5
}
