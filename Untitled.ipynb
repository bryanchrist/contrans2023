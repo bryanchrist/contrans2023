{
 "cells": [
  {
   "cell_type": "code",
   "execution_count": 3,
   "id": "d52c6c1b-aa24-4d32-a184-d237cb2ab8ab",
   "metadata": {},
   "outputs": [],
   "source": [
    "import os\n",
    "mypassword = os.environ['mypassword']\n",
    "mypassword2 = os.getenv('mypassword')"
   ]
  },
  {
   "cell_type": "code",
   "execution_count": null,
   "id": "e9b6b0e7-befd-48b3-8bff-0715d4fa1347",
   "metadata": {},
   "outputs": [],
   "source": []
  }
 ],
 "metadata": {
  "kernelspec": {
   "display_name": "contrans2023",
   "language": "python",
   "name": "contrans2023"
  },
  "language_info": {
   "codemirror_mode": {
    "name": "ipython",
    "version": 3
   },
   "file_extension": ".py",
   "mimetype": "text/x-python",
   "name": "python",
   "nbconvert_exporter": "python",
   "pygments_lexer": "ipython3",
   "version": "3.10.6"
  }
 },
 "nbformat": 4,
 "nbformat_minor": 5
}
