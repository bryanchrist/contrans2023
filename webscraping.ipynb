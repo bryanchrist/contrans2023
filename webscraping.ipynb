{
 "cells": [
  {
   "cell_type": "code",
   "execution_count": 2,
   "id": "f9a94a9c-45ac-423f-b45e-57c032e2c9cf",
   "metadata": {},
   "outputs": [],
   "source": [
    "import numpy as np\n",
    "import pandas as pd\n",
    "from bs4 import BeautifulSoup\n",
    "import requests\n",
    "import json"
   ]
  },
  {
   "cell_type": "code",
   "execution_count": 11,
   "id": "956d232b-f20d-4265-b491-d8fdde57e76b",
   "metadata": {},
   "outputs": [
    {
     "data": {
      "text/plain": [
       "<Response [403]>"
      ]
     },
     "execution_count": 11,
     "metadata": {},
     "output_type": "execute_result"
    }
   ],
   "source": [
    "r = requests.get('http://httpbin.org/user-agent')\n",
    "user_agent = json.loads(r.text)['user-agent']\n",
    "headers = {'User-Agent': user_agent,\n",
    "            \"From\": 'brc4cb@virginia.edu'\n",
    "}\n",
    "url = 'https://www.congress.gov/bill/118th-congress/senate-bill/475/text?format=txt'\n",
    "r = requests.get(url, headers = headers)\n",
    "r"
   ]
  },
  {
   "cell_type": "code",
   "execution_count": 12,
   "id": "89d364ae-94c3-4c17-a651-c219b3a5b977",
   "metadata": {},
   "outputs": [
    {
     "data": {
      "text/plain": [
       "<!DOCTYPE html>\n",
       "<html lang=\"en-US\"><head><title>Just a moment...</title><meta content=\"text/html; charset=utf-8\" http-equiv=\"Content-Type\"/><meta content=\"IE=Edge\" http-equiv=\"X-UA-Compatible\"/><meta content=\"noindex,nofollow\" name=\"robots\"/><meta content=\"width=device-width,initial-scale=1\" name=\"viewport\"/><link href=\"/cdn-cgi/styles/challenges.css\" rel=\"stylesheet\"/></head><body class=\"no-js\"><div class=\"main-wrapper\" role=\"main\"><div class=\"main-content\"><noscript><div id=\"challenge-error-title\"><div class=\"h2\"><span class=\"icon-wrapper\"><div class=\"heading-icon warning-icon\"></div></span><span id=\"challenge-error-text\">Enable JavaScript and cookies to continue</span></div></div></noscript></div></div><script>(function(){window._cf_chl_opt={cvId: '2',cZone: \"www.congress.gov\",cType: 'managed',cNounce: '19818',cRay: '80ce4cb2493743e3',cHash: 'bfbb69320c69172',cUPMDTk: \"\\/bill\\/118th-congress\\/senate-bill\\/475\\/text?format=txt&__cf_chl_tk=VBtqj5pFLNryAbjW_TP0EuhnxwHl4Tz02__szRyMjNA-1695760591-0-gaNycGzNCrs\",cFPWv: 'g',cTTimeMs: '1000',cMTimeMs: '0',cTplV: 5,cTplB: 'cf',cK: \"visitor-time\",fa: \"\\/bill\\/118th-congress\\/senate-bill\\/475\\/text?format=txt&__cf_chl_f_tk=VBtqj5pFLNryAbjW_TP0EuhnxwHl4Tz02__szRyMjNA-1695760591-0-gaNycGzNCrs\",md: \"jweY8TpmWcQwnssX5wjs5_TvezOB6_fAvaDvOMgqaWY-1695760591-0-AchtJfIsxvgflXsnxKxJcUy9K2ux1qjsv3NG-iwvijMwFunO3NmObUWxlqnf1B2gsiss8Ma7knkAwHd6Tr_RegkjAQTE4I0UmZo1hZFM278JZPrk-131mSkBCDe_sdfCnHpIV4JzwxRzq98F7kk3IHQ9PATy-jghDLAce4wKDXgLLZgX7aX2p8VAwNFcXiIzThc8tn2tcDQJp_HJX4cFMan4upv-8u7gHMENj8rKqvTXJOrXFtyygTgI0CkPsZijW-S50lnWK2ASYwGgsrqg3BJ1I5QH3GPrnIoFs-RGLGpNCoHRrkxSerDAIQjA6NWYzfdMtoFQTuZLHgA1vkiDmb0J3juk4kYqnnPH-TJzfwMWDGXS4fBhLrCawT-7lFGPa_HDiuePOvld9QApOpYcJOWnZpmyo22FkJm2T-FU54cOxFanVyvG4jhIMuJvIKcYhrZH18ZE_FnCnEExjzr-v_aGLQYNm7xtlGTKCn8u8JpAPpAfi0GKvkc03We7xupFw2K04CazTGi3RRM1Jr4I1vK6-o5FTe6pCt8LAOkn-8B85wa21Tl8rt4exkGOQtupnKFRtOLUhcP_iyG4aAZiOMp-WH9q7iS86iJ0-ygfb4b-FFMTrelQc0eQBg7U2VQCc6U3e_zCPt1Rs8RV4etSQ4dmwsWahYqZbxI0SXlYJws_df5UN33JtJfbfIMnHmW3FsU3WWFrIV9lSsxKB7mnxIlNJ_cw1df693VvN2LR2fB1a0WR9xCBXcAC542_ytopQUY2B2txZ-cRMeR2qf0rYfFyV_G2QDzwrVP4cVm_kHBhk9ucKNuUke9o-aAG7ePjwnYKEa2zwQmD04E86VugUXW0uSfRJPjUpXaQ2kQVl2vDSdCQVi4cC4bBEcEgokg2YGtSlm8sgFOGOo3lebaDU4DrPhNofCE1L3vIFpiANLkkjj7tZ0f2NHggzza14Y394jQpXAAHiwQYMGOpEwsu71Edvh5l-_Ie8Kt1ntlsJL7YN0EIT7TLsKdGiW1uDhnNlY_ra2hYMIXoUp5uRBDULMWEjcXJ3td2Cuju-tAWqTmgEqn-lfoucFNCgSh-6cTHI8lcjJOGBqznVYXfPp2f269J4CvJUbej-AM65tMIIRbsxQnA_oBaGTSdJ9ehkaGMq2oQ9jBrCl-TbcWMCdDJUsSPrn_pdBTUULzIxRIz4xhUNHjWYssrN4FHKUr9CL1ZA2AlfqP6vaWMdFqPHAhv189CLrpY_mgnY8d2LF_1uxSGI3kQq66uAnFtc1nX5oI-m8FhhV3iCJtyQYQds4hn2iwEHxXZN5U7Lue0M2pWNnkxwqWPMiUSNkf3Wv0JhGtHlTula7e5KkUeprDyQXI-4ktXprUBa8qEi-dSXG4Tqs9kcwZDL3Kqk4zr5MZlFPy2slzP0_32ZQDHPFGq0UTt3nupX8Kbj5mSLE19Em17dqgrxfhgmYY10OFEvH3K-AtDwCtaLyNgnyGRRH1_-EAIrKw7REJKrIHNUTZi5XPgAZSjjn4GAxzryPUlcVVuiUT0qx7FXlUAT4esS-tuNr1a135FNBF6VACkn_jYlylyYdyH5RTvCiUTHJ9DPgLiRk8jUUnlL7vSoindT_v2gVu3s3asSvOfSTKVWW3JJRDBh0EQl-6rKTeSqyMXeh8sPoDu8RqgtLxZMuPKgos32udWqpRnTRWQh_2qdatW7TlzKHLZKfO7SpvoQVA-MVY7pqK2P_EZfNheQcdxZAL23EGfZFxhJRVc7pKrUpKMAlpdFlyLPalFPR4tNFE9dC4A0Ow4o6omSDrmvhVIaz2kJBViGAohSiIu5T_22mmHbTquJMi6iAlxQnFHoWs2N_Y2LK8Z4BmEnL5cezxremrmCNF8bJzz6l4dllhJX6fW5xechOYUhGSn3TUNGhMiRdFv-G5iu2nzxbQm5rAeVJthXPfc79zFr2GT7gM_wnix7YWxECjnUct4n3tXYz48IL7Okjpl1rE3_LUkqZRMmgEzgBm11A6mz-7Y_Omfqv9PnC1CoK07tFtRKbxry6Pz9F6-7QCAli7MW44uX635ENMFWAQlcA8-YKDMvvpy91A9NOlHGTiG8dBCSFu2BtPfcIMNpqgnIuA4Mbc5JornLRk1pWvgvuf-H9ZqkswED-x0Wyrth2KIx39o-XrtAE503Bir-Yz9yHL3PRIgHK9J2r81_bhMbdvKEDoYC65G4rv9eSPNHeQukQTlzIDfZOVC7fyKtfRd_3KZPM2aMbKDYj6QSNqpnYSU38jEMr5cuprTPHQA420G2QZvH_1LrA1DoSa0SVI-PwxEfdpiUyp-zLSVZGzqsp30xzjAbxN_gPhgboZS-XcHirxnO8ZYpIItbUvtnAN_v7w2c1ZV6QUA4NCK-aGyCGNVMlOoxpdnWfptVHfxJ1i1UtG_XsFW0QvWnTG6wlPLunlizoQv-h7jjlV0DHy40nHnIYguHe6cJ9PgQ0exYnVR3CTUAflvu7a53aDtMYOYlDLhT3g65W7kthJ5BDFkLNygghoTtePK_-LqvqRwp-iFEib1XbGArTsBRnC3RUyhrjbo0DsXwaqj4j8UTuOkbAc7oU0kSaHaFbhP-mU80Bn3S8yDY_QqlQha371ojbGTlf_5JfXaijA6G3fBFPcn1Q6TrgtgBYwMoSKxO6EDQSYGPmW5S9X13Miwe3WpPxGVgw\",cRq: {ru: 'aHR0cHM6Ly93d3cuY29uZ3Jlc3MuZ292L2JpbGwvMTE4dGgtY29uZ3Jlc3Mvc2VuYXRlLWJpbGwvNDc1L3RleHQ/Zm9ybWF0PXR4dA==',ra: 'cHl0aG9uLXJlcXVlc3RzLzIuMzEuMA==',rm: 'R0VU',d: 'RBlk/98EwdZRXSnAVejWuL1WQpoNcDSuL7a+szoyatH+Pz5gwsu1BqVOnsLVzNboo1BALAjb8LEv47Jr7+uepiKcGYumDvnYdouWhbYS3OFO9rPPQTu556yJ2M3HsxxGkXzB1tLx7w2zhbGT+lpRv+qCkoSK88sEw49SJcqibrwb/qWPt6nrPQ+yaGrsDNR6A7Jb8pN0yBFpDnmnPjFo0Jdnmrr50UX/uI4bLHLwD23a89QbEnLqGufqiYGLg9Tx1bwlDgwaOss1FuILrzKCnrOyTbpHEV4DhEDpKIp5rxMR472yv4PM52HY0tlK2hSm7aypA01lUKdmkOfIBkmZu+Q9w6PpofDEbCM1GUx7eDpEAULu/55XSczgTyXYsO/eaOu0NMb2c7Yj8fM8Y7ODK3XOTVkoHvU0tDf2d+jnzmb5PKfhAeacErzBP8iQ18OwU8kS/jVIGYy+WlCKff32dTb+zW9NVHM9Kh47YO+4pIShxC6pJaBiSh5Bg6P0yLZ8s7bEwWnmzgQ9OJD/IfyYOCnPnk6z8hybW9m6ILomOfUVLNTBr9dW5v5NFGW6sP3R',t: 'MTY5NTc2MDU5MS43MzgwMDA=',cT: Math.floor(Date.now() / 1000),m: 'MeqUJ72E1xLEQiXyrFlQs5ILtj6DcDFfGhmcLEk+9Ek=',i1: 'ZT/fc98kNaJhrgQK1vpPdg==',i2: 'y89ojdTDu0mJ3FA59USpwA==',zh: 'P/37dfGD+KUZFm0qKuE3N/q0gn3BGPttWTswwTYBAD8=',uh: 'YE9XOpG5TeHmhA1zfs5mxC8CrRZzq2a/+r+OU7dliYQ=',hh: 'cTbG2zct7/9cr7abEWSg59sInRszec2mTWq3jspVNx4=',}};var cpo = document.createElement('script');cpo.src = '/cdn-cgi/challenge-platform/h/g/orchestrate/chl_page/v1?ray=80ce4cb2493743e3';window._cf_chl_opt.cOgUHash = location.hash === '' && location.href.indexOf('#') !== -1 ? '#' : location.hash;window._cf_chl_opt.cOgUQuery = location.search === '' && location.href.slice(0, location.href.length - window._cf_chl_opt.cOgUHash.length).indexOf('?') !== -1 ? '?' : location.search;if (window.history && window.history.replaceState) {var ogU = location.pathname + window._cf_chl_opt.cOgUQuery + window._cf_chl_opt.cOgUHash;history.replaceState(null, null, \"\\/bill\\/118th-congress\\/senate-bill\\/475\\/text?format=txt&__cf_chl_rt_tk=VBtqj5pFLNryAbjW_TP0EuhnxwHl4Tz02__szRyMjNA-1695760591-0-gaNycGzNCrs\" + window._cf_chl_opt.cOgUHash);cpo.onload = function() {history.replaceState(null, null, ogU);}}document.getElementsByTagName('head')[0].appendChild(cpo);}());</script></body></html>"
      ]
     },
     "execution_count": 12,
     "metadata": {},
     "output_type": "execute_result"
    }
   ],
   "source": [
    "BeautifulSoup(r.text, 'html.parser')"
   ]
  },
  {
   "cell_type": "code",
   "execution_count": 13,
   "id": "fbac0b96-ca86-4de5-b28a-bc41c6768c02",
   "metadata": {},
   "outputs": [
    {
     "data": {
      "text/plain": [
       "<Response [200]>"
      ]
     },
     "execution_count": 13,
     "metadata": {},
     "output_type": "execute_result"
    }
   ],
   "source": [
    "url = 'https://www.govinfo.gov/content/pkg/BILLS-118s475is/html/BILLS-118s475is.htm'\n",
    "r = requests.get(url, headers = headers)\n",
    "r"
   ]
  },
  {
   "cell_type": "code",
   "execution_count": 21,
   "id": "05eff6cd-e348-408e-bb44-6a6d629b757c",
   "metadata": {},
   "outputs": [
    {
     "data": {
      "text/plain": [
       "\"\\n[Congressional Bills 118th Congress]\\n[From the U.S. Government Publishing Office]\\n[S. 475 Introduced in Senate (IS)]\\n\\n<DOC>\\n\\n\\n\\n\\n\\n\\n118th CONGRESS\\n  1st Session\\n                                 S. 475\\n\\n   To designate the clinic of the Department of Veterans Affairs in \\n   Gallup, New Mexico, as the Hiroshi ``Hershey'' Miyamura VA Clinic.\\n\\n\\n_______________________________________________________________________\\n\\n\\n                   IN THE SENATE OF THE UNITED STATES\\n\\n                           February 16, 2023\\n\\nMr. Heinrich (for himself and Mr. Lujan) introduced the following bill; \\nwhich was read twice and referred to the Committee on Veterans' Affairs\\n\\n_______________________________________________________________________\\n\\n                                 A BILL\\n\\n\\n \\n   To designate the clinic of the Department of Veterans Affairs in \\n   Gallup, New Mexico, as the Hiroshi ``Hershey'' Miyamura VA Clinic.\\n\\n    Be it enacted by the Senate and House of Representatives of the \\nUnited States of America in Congress assembled,\\n\\nSECTION 1. DESIGNATION OF HIROSHI ``HERSHEY'' MIYAMURA DEPARTMENT OF \\n              VETERANS AFFAIRS CLINIC.\\n\\n    (a) Findings.--Congress finds the following:\\n            (1) Hiroshi ``Hershey'' Miyamura was born on October 6, \\n        1925, in Gallup, New Mexico.\\n            (2) A second generation Japanese American, Hershey Miyamura \\n        first served in the United States Army near the end of World \\n        War II.\\n            (3) Hershey Miyamura served in the Army at a time when many \\n        of his fellow Japanese Americans, and that includes his future \\n        wife, were detained in internment camps in the United States.\\n            (4) Hershey Miyamura served in the storied 442nd Infantry \\n        Regiment, which was composed of soldiers with Japanese ancestry \\n        and became one of the most decorated units in the history of \\n        the United States military.\\n            (5) Following the start of the Korean War in 1950, the Army \\n        recalled Hershey Miyamura, who had remained as a member of the \\n        reserve components of the Army, back into active duty.\\n            (6) During an overnight firefight from April 24 to April \\n        25, 1951, then-Corporal Miyamura covered the withdrawal of his \\n        entire company from advancing enemy forces as a machine gun \\n        squad leader.\\n            (7) The selfless actions by Hershey Miyamura that night \\n        allowed all 16 of his men to withdraw safely before he was \\n        severely wounded and captured as a prisoner of war.\\n            (8) Nearly 2\\\\1/2\\\\ years later, following his release and \\n        return to the United States, President Eisenhower presented \\n        Hershey Miyamura with the Congressional Medal of Honor in a \\n        ceremony at the White House.\\n            (9) The lifelong dedication of Hershey Miyamura to the \\n        United States never ceased. It continued long after his \\n        decorated military service ended.\\n            (10) After he received his honorable discharge from the \\n        Army, Hershey Miyamura opened a service station along Route 66 \\n        in his hometown of Gallup, New Mexico.\\n            (11) Hershey Miyamura remained active in his community \\n        until his dying days, advocating for his fellow veterans and \\n        inspiring young people with lectures on patriotism, faith, and \\n        service.\\n    (b) Designation.--The clinic of the Department of Veterans Affairs \\nlocated at 2075 South NM Highway 602, Gallup, New Mexico, shall after \\nthe date of the enactment of this Act be known and designated as the \\n``Hiroshi `Hershey' Miyamura Department of Veterans Affairs Clinic'' or \\nthe ``Hiroshi `Hershey' Miyamura VA Clinic''.\\n    (c) References.--Any reference in any law, regulation, map, \\ndocument, paper, or other record of the United States to the clinic \\nreferred to in subsection (b) shall be considered to be a reference to \\nthe ``Hiroshi `Hershey' Miyamura VA Clinic''.\\n                                 <all>\\n\""
      ]
     },
     "execution_count": 21,
     "metadata": {},
     "output_type": "execute_result"
    }
   ],
   "source": [
    "mysoup = BeautifulSoup(r.text, 'html.parser')\n",
    "mysoup.find_all('pre')[0].text"
   ]
  },
  {
   "cell_type": "code",
   "execution_count": null,
   "id": "97476fe2-2566-4f21-bab7-b8e7da2d97e0",
   "metadata": {},
   "outputs": [],
   "source": []
  }
 ],
 "metadata": {
  "kernelspec": {
   "display_name": "Python 3 (ipykernel)",
   "language": "python",
   "name": "python3"
  },
  "language_info": {
   "codemirror_mode": {
    "name": "ipython",
    "version": 3
   },
   "file_extension": ".py",
   "mimetype": "text/x-python",
   "name": "python",
   "nbconvert_exporter": "python",
   "pygments_lexer": "ipython3",
   "version": "3.11.4"
  }
 },
 "nbformat": 4,
 "nbformat_minor": 5
}
